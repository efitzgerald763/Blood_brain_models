{
  "nbformat": 4,
  "nbformat_minor": 0,
  "metadata": {
    "colab": {
      "provenance": [],
      "authorship_tag": "ABX9TyP9pbTuWl+/cg4gXu4C7eBV",
      "include_colab_link": true
    },
    "kernelspec": {
      "name": "python3",
      "display_name": "Python 3"
    },
    "language_info": {
      "name": "python"
    }
  },
  "cells": [
    {
      "cell_type": "markdown",
      "metadata": {
        "id": "view-in-github",
        "colab_type": "text"
      },
      "source": [
        "<a href=\"https://colab.research.google.com/github/efitzgerald763/Blood_brain_models/blob/main/ENSG00000096060_Tree_based_models_GridSearch.ipynb\" target=\"_parent\"><img src=\"https://colab.research.google.com/assets/colab-badge.svg\" alt=\"Open In Colab\"/></a>"
      ]
    },
    {
      "cell_type": "code",
      "source": [
        "# Connects to Google Drive\n",
        "from google.colab import drive\n",
        "drive.mount('/content/drive')\n",
        "\n",
        "import numpy as np\n",
        "import pandas as pd\n",
        "\n",
        "file_path = '/content/drive/My Drive/Colab Notebooks/Blood_brain_pred/ENSG00000096060_blood_brain.csv'\n",
        "data = pd.read_csv(file_path)\n",
        "\n",
        "# Set the index to the first column\n",
        "data.set_index(data.columns[0], inplace=True)"
      ],
      "metadata": {
        "colab": {
          "base_uri": "https://localhost:8080/"
        },
        "id": "fGy62_8xZl8P",
        "outputId": "1aed23ac-7df9-462b-a8e9-593d215e5b53"
      },
      "execution_count": 1,
      "outputs": [
        {
          "output_type": "stream",
          "name": "stdout",
          "text": [
            "Mounted at /content/drive\n"
          ]
        }
      ]
    },
    {
      "cell_type": "code",
      "source": [
        "# Transpose the dataframe so each gene is a feature and each sample is a column\n",
        "data_transposed = data.T\n",
        "\n",
        "data_transposed.sample(4)\n",
        "\n",
        "# Separate the target variable\n",
        "target_row = 'ENSG00000096060'\n",
        "y = data_transposed[target_row]\n",
        "X = data_transposed.drop(columns=[target_row])\n",
        "\n",
        "# Check the shapes to ensure they are as expected\n",
        "print(X.shape)\n",
        "print(y.shape)"
      ],
      "metadata": {
        "colab": {
          "base_uri": "https://localhost:8080/"
        },
        "id": "EC-CqL1OZg15",
        "outputId": "e70693d6-3200-45d1-b8fd-b62e46f6946b"
      },
      "execution_count": 2,
      "outputs": [
        {
          "output_type": "stream",
          "name": "stdout",
          "text": [
            "(81, 18706)\n",
            "(81,)\n"
          ]
        }
      ]
    },
    {
      "cell_type": "markdown",
      "source": [
        "Spit data into test/train"
      ],
      "metadata": {
        "id": "JagMnDUYovPW"
      }
    },
    {
      "cell_type": "code",
      "source": [
        "from sklearn.model_selection import train_test_split\n",
        "\n",
        "# Split the data into training and testing sets\n",
        "X_train, X_test, y_train, y_test = train_test_split(X, y, test_size=0.2, random_state=42)"
      ],
      "metadata": {
        "id": "03rwO1WkaB0k"
      },
      "execution_count": 3,
      "outputs": []
    },
    {
      "cell_type": "markdown",
      "source": [
        "Random Forest GridSearch"
      ],
      "metadata": {
        "id": "uY3u02MNoPo2"
      }
    },
    {
      "cell_type": "code",
      "execution_count": null,
      "metadata": {
        "id": "wo1wbRbGZbpa"
      },
      "outputs": [],
      "source": [
        "from sklearn.ensemble import RandomForestRegressor\n",
        "from sklearn.model_selection import GridSearchCV\n",
        "from sklearn.metrics import mean_squared_error, r2_score\n",
        "\n",
        "# Define the parameter grid\n",
        "param_grid = {\n",
        "    'max_depth': [10, 20, 30, None],\n",
        "    'min_samples_split': [2, 5, 10],\n",
        "    'min_samples_leaf': [1, 2, 4],\n",
        "    'max_features': ['auto', 'sqrt', 'log2'],\n",
        "    'bootstrap': [True]\n",
        "}\n",
        "\n",
        "# Initialize model with 500 trees\n",
        "rf = RandomForestRegressor(n_estimators=500, random_state=42)\n",
        "\n",
        "# Perform Grid Search\n",
        "grid_search = GridSearchCV(estimator=rf, param_grid=param_grid, cv=5, n_jobs=-1, scoring='neg_mean_squared_error')\n",
        "grid_search.fit(X_train, y_train)\n",
        "\n",
        "# Print the best parameters and score\n",
        "print(f'Best Parameters: {grid_search.best_params_}')\n",
        "print(f'Best Score: {grid_search.best_score_}')\n",
        "\n",
        "# Use the best estimator to predict and evaluate\n",
        "best_rf = grid_search.best_estimator_\n",
        "y_pred = best_rf.predict(X_test)\n",
        "mse = mean_squared_error(y_test, y_pred)\n",
        "r2 = r2_score(y_test, y_pred)\n",
        "print(f'Mean Squared Error: {mse}')\n",
        "print(f'R-squared: {r2}')"
      ]
    },
    {
      "cell_type": "markdown",
      "source": [
        "GradientBoosting model GridSearch"
      ],
      "metadata": {
        "id": "0-SDbeI2oHft"
      }
    },
    {
      "cell_type": "code",
      "source": [
        "from sklearn.ensemble import GradientBoostingRegressor\n",
        "from sklearn.linear_model import LinearRegression\n",
        "from sklearn.model_selection import GridSearchCV\n",
        "from sklearn.metrics import mean_squared_error, r2_score\n",
        "\n",
        "# Define the parameter grid for Gradient Boosting\n",
        "param_grid_gb = {\n",
        "    'n_estimators': [100, 200, 300],\n",
        "    'learning_rate': [0.01, 0.1, 0.2],\n",
        "    'max_depth': [3, 5, 7]\n",
        "}\n",
        "\n",
        "# Initialize Gradient Boosting model\n",
        "gb = GradientBoostingRegressor(random_state=42)\n",
        "\n",
        "# Perform Grid Search for Gradient Boosting\n",
        "grid_search_gb = GridSearchCV(estimator=gb, param_grid=param_grid_gb, cv=5, n_jobs=-1, scoring='neg_mean_squared_error')\n",
        "grid_search_gb.fit(X_train, y_train)\n",
        "\n",
        "# Print the best parameters and score for Gradient Boosting\n",
        "print(f'Best Parameters for Gradient Boosting: {grid_search_gb.best_params_}')\n",
        "print(f'Best Score for Gradient Boosting: {grid_search_gb.best_score_}')\n",
        "\n",
        "# Use the best estimator to predict and evaluate for Gradient Boosting\n",
        "best_gb = grid_search_gb.best_estimator_\n",
        "y_pred_gb = best_gb.predict(X_test)\n",
        "mse_gb = mean_squared_error(y_test, y_pred_gb)\n",
        "r2_gb = r2_score(y_test, y_pred_gb)\n",
        "print(f'Mean Squared Error for Gradient Boosting: {mse_gb}')\n",
        "print(f'R-squared for Gradient Boosting: {r2_gb}')\n"
      ],
      "metadata": {
        "id": "PaZkcwsInwIF"
      },
      "execution_count": null,
      "outputs": []
    },
    {
      "cell_type": "markdown",
      "source": [
        "XGBoost GridSearch"
      ],
      "metadata": {
        "id": "Mn-UUoBboBJR"
      }
    },
    {
      "cell_type": "code",
      "source": [
        "import xgboost as xgb\n",
        "from sklearn.metrics import mean_squared_error, r2_score\n",
        "\n",
        "# Define the parameter grid for XGBoost\n",
        "param_grid_xgb = {\n",
        "    'n_estimators': [100, 200, 300],\n",
        "    'learning_rate': [0.01, 0.1, 0.2],\n",
        "    'max_depth': [3, 5, 7]\n",
        "}\n",
        "\n",
        "# Initialize XGBoost model\n",
        "xgb_model = xgb.XGBRegressor(random_state=42)\n",
        "\n",
        "# Perform Grid Search for XGBoost\n",
        "grid_search_xgb = GridSearchCV(estimator=xgb_model, param_grid=param_grid_xgb, cv=5, n_jobs=-1, scoring='neg_mean_squared_error')\n",
        "grid_search_xgb.fit(X_train, y_train)\n",
        "\n",
        "# Print the best parameters and score for XGBoost\n",
        "print(f'Best Parameters for XGBoost: {grid_search_xgb.best_params_}')\n",
        "print(f'Best Score for XGBoost: {grid_search_xgb.best_score_}')\n",
        "\n",
        "# Use the best estimator to predict and evaluate for XGBoost\n",
        "best_xgb = grid_search_xgb.best_estimator_\n",
        "y_pred_xgb = best_xgb.predict(X_test)\n",
        "mse_xgb = mean_squared_error(y_test, y_pred_xgb)\n",
        "r2_xgb = r2_score(y_test, y_pred_xgb)\n",
        "print(f'Mean Squared Error for XGBoost: {mse_xgb}')\n",
        "print(f'R-squared for XGBoost: {r2_xgb}')\n"
      ],
      "metadata": {
        "id": "hZZw0ciCnxBq"
      },
      "execution_count": null,
      "outputs": []
    }
  ]
}